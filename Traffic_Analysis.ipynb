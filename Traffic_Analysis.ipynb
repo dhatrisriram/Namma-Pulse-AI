{
 "cells": [
  {
   "cell_type": "code",
   "execution_count": 7,
   "id": "3ad79b16-0f92-41e6-be89-00a6e6bcbd65",
   "metadata": {},
   "outputs": [
    {
     "data": {
      "image/png": "[encoded data removed]",
      "text/plain": [
       "<Figure size 800x600 with 2 Axes>"
      ]
     },
     "metadata": {},
     "output_type": "display_data"
    }
   ],
   "source": [
    "import numpy as np\n",
    "import matplotlib.pyplot as plt\n",
    "import seaborn as sns\n",
    "import json\n",
    "\n",
    "# 🔹 Load travel times from the saved JSON file\n",
    "with open(\"C:/Users/Prerana/Desktop/Traffic_Analysis/data/traffic_matrix.json\", \"r\") as file:\n",
    "    travel_times = json.load(file)\n",
    "\n",
    "# 🔹 Find the number of locations dynamically\n",
    "num_locations = max(max(map(int, key.split(\"-\"))) for key in travel_times.keys()) + 1\n",
    "\n",
    "# 🛠 Create a square matrix of correct size (num_locations x num_locations)\n",
    "matrix = np.zeros((num_locations, num_locations))\n",
    "\n",
    "# 🔄 Fill matrix with travel times\n",
    "for key, value in travel_times.items():\n",
    "    i, j = map(int, key.split(\"-\"))\n",
    "    matrix[i, j] = value\n",
    "\n",
    "# 🎨 Plot heatmap\n",
    "plt.figure(figsize=(8, 6))\n",
    "sns.heatmap(matrix, annot=True, cmap=\"coolwarm\", fmt=\".0f\", xticklabels=range(num_locations), yticklabels=range(num_locations))\n",
    "plt.xlabel(\"Destination\")\n",
    "plt.ylabel(\"Origin\")\n",
    "plt.title(\"Traffic Connectivity Matrix (Travel Times in Seconds)\")\n",
    "plt.show()\n"
   ]
  },
  {
   "cell_type": "code",
   "execution_count": 8,
   "id": "097f5279-9394-4673-9dbd-2b233e7667a3",
   "metadata": {},
   "outputs": [
    {
     "name": "stdout",
     "output_type": "stream",
     "text": [
      "Requirement already satisfied: munkres in c:\\users\\prerana\\appdata\\local\\programs\\python\\python311\\lib\\site-packages (1.1.4)\n"
     ]
    },
    {
     "name": "stderr",
     "output_type": "stream",
     "text": [
      "\n",
      "[notice] A new release of pip is available: 24.3.1 -> 25.0.1\n",
      "[notice] To update, run: python.exe -m pip install --upgrade pip\n"
     ]
    }
   ],
   "source": [
    "!pip install munkres\n"
   ]
  },
  {
   "cell_type": "code",
   "execution_count": 10,
   "id": "c74cd49d-f903-46dc-b3b4-48ef73cdda30",
   "metadata": {},
   "outputs": [
    {
     "name": "stdout",
     "output_type": "stream",
     "text": [
      "Traffic Matrix: {'0-1': 156, '0-2': 457, '1-0': 247, '1-2': 301, '2-0': 476, '2-1': 376}\n"
     ]
    }
   ],
   "source": [
    "import json\n",
    "from munkres import Munkres\n",
    "\n",
    "# Load the traffic matrix\n",
    "with open(\"C:/Users/Prerana/Desktop/Traffic_Analysis/data/traffic_matrix.json\", \"r\") as file:\n",
    "    traffic_matrix = json.load(file)\n",
    "\n",
    "# Check if data is loaded correctly\n",
    "print(\"Traffic Matrix:\", traffic_matrix)\n"
   ]
  },
  {
   "cell_type": "code",
   "execution_count": 11,
   "id": "c27e6a6d-8fdf-40cc-86f8-2a58536dafdb",
   "metadata": {},
   "outputs": [
    {
     "name": "stdout",
     "output_type": "stream",
     "text": [
      "Cost Matrix:\n",
      " [[ inf 156.]\n",
      " [247.  inf]]\n"
     ]
    }
   ],
   "source": [
    "# Convert dictionary to a cost matrix\n",
    "cost_matrix = []\n",
    "keys = list(traffic_matrix.keys())\n",
    "num_locations = int(len(keys) ** 0.5)  # Square root of the matrix size\n",
    "\n",
    "for i in range(num_locations):\n",
    "    row = []\n",
    "    for j in range(num_locations):\n",
    "        if i == j:\n",
    "            row.append(float('inf'))  # Avoid self-travel\n",
    "        else:\n",
    "            row.append(traffic_matrix[f\"{i}-{j}\"])\n",
    "    cost_matrix.append(row)\n",
    "\n",
    "# Print the cost matrix\n",
    "import numpy as np\n",
    "print(\"Cost Matrix:\\n\", np.array(cost_matrix))\n"
   ]
  },
  {
   "cell_type": "code",
   "execution_count": 13,
   "id": "bd4e8221-3b86-45a1-b917-c22cdbd8eda0",
   "metadata": {},
   "outputs": [
    {
     "name": "stdout",
     "output_type": "stream",
     "text": [
      "✅ Created src/driver_allocation.py\n"
     ]
    }
   ],
   "source": [
    "# Create src directory if it doesn't exist\n",
    "import os\n",
    "os.makedirs(\"src\", exist_ok=True)\n",
    "\n",
    "# Create driver_allocation.py file\n",
    "file_path = \"src/driver_allocation.py\"\n",
    "if not os.path.exists(file_path):\n",
    "    with open(file_path, \"w\") as f:\n",
    "        f.write(\"# This is driver_allocation.py\\n\")\n",
    "    print(f\"✅ Created {file_path}\")\n",
    "else:\n",
    "    print(f\"✅ {file_path} already exists\")\n"
   ]
  },
  {
   "cell_type": "code",
   "execution_count": 14,
   "id": "3bd1d44a-ba10-4d41-9852-9211b2c71018",
   "metadata": {},
   "outputs": [
    {
     "name": "stdout",
     "output_type": "stream",
     "text": [
      "Requirement already satisfied: munkres in c:\\users\\prerana\\appdata\\local\\programs\\python\\python311\\lib\\site-packages (1.1.4)\n"
     ]
    },
    {
     "name": "stderr",
     "output_type": "stream",
     "text": [
      "\n",
      "[notice] A new release of pip is available: 24.3.1 -> 25.0.1\n",
      "[notice] To update, run: python.exe -m pip install --upgrade pip\n"
     ]
    }
   ],
   "source": [
    "!pip install munkres\n"
   ]
  },
  {
   "cell_type": "code",
   "execution_count": 18,
   "id": "c299ddac-03d8-478e-a603-b35f33cff65f",
   "metadata": {},
   "outputs": [
    {
     "name": "stdout",
     "output_type": "stream",
     "text": [
      "['driver_allocation.py']\n"
     ]
    }
   ],
   "source": [
    "import os\n",
    "print(os.listdir(\"src\"))\n"
   ]
  },
  {
   "cell_type": "code",
   "execution_count": 20,
   "id": "52f8984f-012e-4543-81af-badaf4590b9d",
   "metadata": {},
   "outputs": [
    {
     "ename": "FileNotFoundError",
     "evalue": "[WinError 3] The system cannot find the path specified: 'data'",
     "output_type": "error",
     "traceback": [
      "\u001b[1;31m---------------------------------------------------------------------------\u001b[0m",
      "\u001b[1;31mFileNotFoundError\u001b[0m                         Traceback (most recent call last)",
      "Cell \u001b[1;32mIn[20], line 1\u001b[0m\n\u001b[1;32m----> 1\u001b[0m \u001b[38;5;28mprint\u001b[39m(\u001b[43mos\u001b[49m\u001b[38;5;241;43m.\u001b[39;49m\u001b[43mlistdir\u001b[49m\u001b[43m(\u001b[49m\u001b[38;5;124;43m\"\u001b[39;49m\u001b[38;5;124;43mdata\u001b[39;49m\u001b[38;5;124;43m\"\u001b[39;49m\u001b[43m)\u001b[49m)\n",
      "\u001b[1;31mFileNotFoundError\u001b[0m: [WinError 3] The system cannot find the path specified: 'data'"
     ]
    }
   ],
   "source": [
    "print(os.listdir(\"data\"))\n"
   ]
  },
  {
   "cell_type": "code",
   "execution_count": null,
   "id": "c75818f9-1cd8-48df-b6c8-c8654b2079ca",
   "metadata": {},
   "outputs": [],
   "source": []
  }
 ],
 "metadata": {
  "kernelspec": {
   "display_name": "Python 3 (ipykernel)",
   "language": "python",
   "name": "python3"
  },
  "language_info": {
   "codemirror_mode": {
    "name": "ipython",
    "version": 3
   },
   "file_extension": ".py",
   "mimetype": "text/x-python",
   "name": "python",
   "nbconvert_exporter": "python",
   "pygments_lexer": "ipython3",
   "version": "3.11.5"
  }
 },
 "nbformat": 4,
 "nbformat_minor": 5
}
